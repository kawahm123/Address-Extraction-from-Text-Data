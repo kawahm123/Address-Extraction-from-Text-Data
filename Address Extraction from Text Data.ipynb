{
 "cells": [
  {
   "cell_type": "code",
   "execution_count": null,
   "id": "e0b1826b",
   "metadata": {},
   "outputs": [],
   "source": [
    "import pandas as pd\n",
    "import re\n",
    "\n",
    "def extract_address(summary, suffix_regex):\n",
    "    \"\"\"\n",
    "    Extracts address from the summary using a regular expression.\n",
    "    \n",
    "    Parameters:\n",
    "        summary (str): A string containing the address summary.\n",
    "        suffix_regex (str): A regex pattern for address suffixes.\n",
    "    \n",
    "    Returns:\n",
    "        str: The extracted address if found, otherwise None.\n",
    "    \"\"\"\n",
    "    match = re.search(r'(\\d+ [\\w\\s]+(' + suffix_regex + r'))', summary, re.IGNORECASE)\n",
    "    return match.group() if match else None\n",
    "\n",
    "def main(input_file, output_file):\n",
    "    # Read the Excel file into a DataFrame\n",
    "    df = pd.read_excel(input_file)\n",
    "    \n",
    "    # Define suffixes and their regex patterns\n",
    "    suffixes = {\n",
    "        r'\\b(allee|ally|aly)\\b': ' alley',\n",
    "        r'\\b(anex|annex|annx|anx)\\b': ' anex',\n",
    "        r'\\b(arc|arcade)\\b': ' arcade',\n",
    "        r'\\b(av|ave|aven|avenu|avenue|avn|avnue)\\b': ' avenue',\n",
    "        r'\\b(bayoo|bayou)\\b': ' bayou',\n",
    "        # (Add remaining suffix patterns here similarly)\n",
    "        r'\\b(wells|wls)\\b': ' wells'\n",
    "    }\n",
    "\n",
    "    # Combine all suffix patterns into a single regex pattern\n",
    "    suffix_regex = \"|\".join(suffixes.keys())\n",
    "\n",
    "    # Apply the address extraction function to each row in a relevant column\n",
    "    df['Extracted Address'] = df['Summary'].apply(lambda x: extract_address(x, suffix_regex))\n",
    "\n",
    "    # Write the updated DataFrame back to an Excel file\n",
    "    df.to_excel(output_file, index=False)\n",
    "\n",
    "    print(f\"Processed file saved to {output_file}\")\n",
    "\n",
    "# Parameters\n",
    "input_file = \"input.xlsx\"  # Update with your actual input file path\n",
    "output_file = \"output.xlsx\"  # Update with your desired output file path\n",
    "\n",
    "# Run the main function\n",
    "main(input_file, output_file)"
   ]
  }
 ],
 "metadata": {
  "kernelspec": {
   "display_name": "Python 3",
   "language": "python",
   "name": "python3"
  },
  "language_info": {
   "codemirror_mode": {
    "name": "ipython",
    "version": 3
   },
   "file_extension": ".py",
   "mimetype": "text/x-python",
   "name": "python",
   "nbconvert_exporter": "python",
   "pygments_lexer": "ipython3",
   "version": "3.8.8"
  }
 },
 "nbformat": 4,
 "nbformat_minor": 5
}
